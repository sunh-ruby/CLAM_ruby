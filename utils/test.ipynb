{
 "cells": [
  {
   "cell_type": "code",
   "execution_count": 4,
   "metadata": {},
   "outputs": [
    {
     "data": {
      "text/plain": [
       "{'03b3e2953d2bc10416028e31c21a': {'slide_id': array('03b3e2953d2bc10416028e31c21a', dtype='<U28'),\n",
       "  'prob': array([[0.42010206, 0.57989794]], dtype=float32),\n",
       "  'label': 1},\n",
       " 'c4b77e00c0872f42574a52cbbf5b': {'slide_id': array('c4b77e00c0872f42574a52cbbf5b', dtype='<U28'),\n",
       "  'prob': array([[0.44703668, 0.5529633 ]], dtype=float32),\n",
       "  'label': 0},\n",
       " '06f1bf2d24301edbd1128df786ad': {'slide_id': array('06f1bf2d24301edbd1128df786ad', dtype='<U28'),\n",
       "  'prob': array([[0.32974917, 0.6702509 ]], dtype=float32),\n",
       "  'label': 1},\n",
       " 'dd7fd9cc8a147103d43d787d7d80': {'slide_id': array('dd7fd9cc8a147103d43d787d7d80', dtype='<U28'),\n",
       "  'prob': array([[0.3973256 , 0.60267437]], dtype=float32),\n",
       "  'label': 1},\n",
       " 'c36172eb8d408b6d4266d27e1d16': {'slide_id': array('c36172eb8d408b6d4266d27e1d16', dtype='<U28'),\n",
       "  'prob': array([[0.40627927, 0.59372073]], dtype=float32),\n",
       "  'label': 0},\n",
       " 'e7f6ed7d9977331aa5eb1daed8aa': {'slide_id': array('e7f6ed7d9977331aa5eb1daed8aa', dtype='<U28'),\n",
       "  'prob': array([[0.44914484, 0.5508551 ]], dtype=float32),\n",
       "  'label': 0},\n",
       " 'b07fe1838cf407f20ead3696cd47': {'slide_id': array('b07fe1838cf407f20ead3696cd47', dtype='<U28'),\n",
       "  'prob': array([[0.33387104, 0.66612893]], dtype=float32),\n",
       "  'label': 0},\n",
       " 'a80a9ef177c2f7009a8eb5d8f805': {'slide_id': array('a80a9ef177c2f7009a8eb5d8f805', dtype='<U28'),\n",
       "  'prob': array([[0.4556253, 0.5443747]], dtype=float32),\n",
       "  'label': 1},\n",
       " '72383a0f44c7d64525dfa12e294e': {'slide_id': array('72383a0f44c7d64525dfa12e294e', dtype='<U28'),\n",
       "  'prob': array([[0.34673408, 0.6532659 ]], dtype=float32),\n",
       "  'label': 1}}"
      ]
     },
     "execution_count": 4,
     "metadata": {},
     "output_type": "execute_result"
    }
   ],
   "source": [
    "import pickle\n",
    "\n",
    "\n",
    "with open('../results/KRAS_s1/split_0_results.pkl', 'rb') as f:\n",
    "    data = pickle.load(f)\n",
    "data"
   ]
  },
  {
   "cell_type": "code",
   "execution_count": 12,
   "metadata": {},
   "outputs": [
    {
     "data": {
      "text/plain": [
       "0.7960164835164836"
      ]
     },
     "execution_count": 12,
     "metadata": {},
     "output_type": "execute_result"
    }
   ],
   "source": [
    "import pandas as pd\n",
    "res = pd.read_csv(\"/home/harry/Documents/codes/CLAM_ruby/results/cancer_s1/summary.csv\", index_col=0)\n",
    "np.median(res['val_auc'])"
   ]
  },
  {
   "cell_type": "code",
   "execution_count": 15,
   "metadata": {},
   "outputs": [
    {
     "data": {
      "text/plain": [
       "0.8427197802197802"
      ]
     },
     "execution_count": 15,
     "metadata": {},
     "output_type": "execute_result"
    }
   ],
   "source": [
    "import pandas as pd\n",
    "res = pd.read_csv(\"/home/harry/Documents/codes/CLAM_ruby/results/cancer_uni_s1/summary.csv\", index_col=0)\n",
    "np.median(res['val_auc'])"
   ]
  },
  {
   "cell_type": "code",
   "execution_count": 11,
   "metadata": {},
   "outputs": [
    {
     "data": {
      "text/plain": [
       "0.8880494505494505"
      ]
     },
     "execution_count": 11,
     "metadata": {},
     "output_type": "execute_result"
    }
   ],
   "source": [
    "import pandas as pd\n",
    "res = pd.read_csv(\"/home/harry/Documents/codes/CLAM_ruby/results/cancer_I_trained_s1/summary.csv\", index_col=0)\n",
    "np.median(res['val_auc'])"
   ]
  },
  {
   "cell_type": "code",
   "execution_count": 17,
   "metadata": {},
   "outputs": [
    {
     "data": {
      "text/plain": [
       "0.5"
      ]
     },
     "execution_count": 17,
     "metadata": {},
     "output_type": "execute_result"
    }
   ],
   "source": [
    "import pandas as pd\n",
    "res = pd.read_csv(\"/home/harry/Documents/codes/CLAM_ruby/results/biomarker_uni_s1/summary.csv\", index_col=0)\n",
    "np.median(res['val_acc'])"
   ]
  }
 ],
 "metadata": {
  "kernelspec": {
   "display_name": "base",
   "language": "python",
   "name": "python3"
  },
  "language_info": {
   "codemirror_mode": {
    "name": "ipython",
    "version": 3
   },
   "file_extension": ".py",
   "mimetype": "text/x-python",
   "name": "python",
   "nbconvert_exporter": "python",
   "pygments_lexer": "ipython3",
   "version": "3.11.4"
  }
 },
 "nbformat": 4,
 "nbformat_minor": 2
}
